{
 "cells": [
  {
   "cell_type": "code",
   "execution_count": 2,
   "metadata": {},
   "outputs": [],
   "source": [
    "import matplotlib.pyplot as plt\n",
    "from got import copycat, cheater, grudger, detective, cooperator\n",
    "from tournament import make_players\n",
    "from simulation import simulation"
   ]
  },
  {
   "cell_type": "markdown",
   "metadata": {},
   "source": [
    "# Game of Trust\n",
    "\n",
    "During a game with an opponent you have the choice to either put in a coin into a machine in front of you\n",
    "or to not throw in a coin.\n",
    "We will call the action of putting in a coin *cooperating* and the action of not doing so *cheating*.\n",
    "\n",
    "The outcomes of your actions are as follows:\n",
    "\n",
    "![got](got.png)\n",
    "\n",
    "Image taken from [gameoftrust](http://ncase.me/trust/)\n",
    "\n",
    "## Exercise\n",
    "\n",
    "1. Try to implement your own game of trust with different player strategies!\n",
    "2. Let them play multiple rounds against each other\n",
    "3. Let multiple strategies play against each other in a tournament\n",
    "4. Build a simulation of multiple tournaments to see who has the ultimate strategy"
   ]
  },
  {
   "cell_type": "code",
   "execution_count": 3,
   "metadata": {},
   "outputs": [
    {
     "name": "stdout",
     "output_type": "stream",
     "text": [
      "Step:   0 Counter({'cheater': 9, 'cooperator': 9, 'copycat': 3})\n",
      "Step:   1 Counter({'cheater': 14, 'cooperator': 4, 'copycat': 3})\n",
      "Step:   2 Counter({'cheater': 19, 'copycat': 2, 'cooperator': 0})\n",
      "Step:   3 Counter({'cheater': 17, 'copycat': 4, 'cooperator': 0})\n",
      "Step:   4 Counter({'cheater': 13, 'copycat': 8, 'cooperator': 0})\n",
      "Step:   5 Counter({'copycat': 13, 'cheater': 8, 'cooperator': 0})\n",
      "Step:   6 Counter({'copycat': 18, 'cheater': 3, 'cooperator': 0})\n",
      "Step:   7 Counter({'copycat': 21, 'cheater': 0, 'cooperator': 0})\n",
      "Step:   8 Counter({'copycat': 21, 'cheater': 0, 'cooperator': 0})\n",
      "Step:   9 Counter({'copycat': 21, 'cheater': 0, 'cooperator': 0})\n",
      "Step:  10 Counter({'copycat': 21, 'cheater': 0, 'cooperator': 0})\n",
      "Step:  11 Counter({'copycat': 21, 'cheater': 0, 'cooperator': 0})\n",
      "Step:  12 Counter({'copycat': 21, 'cheater': 0, 'cooperator': 0})\n",
      "Step:  13 Counter({'copycat': 21, 'cheater': 0, 'cooperator': 0})\n",
      "Step:  14 Counter({'copycat': 21, 'cheater': 0, 'cooperator': 0})\n",
      "Step:  15 Counter({'copycat': 21, 'cheater': 0, 'cooperator': 0})\n",
      "Step:  16 Counter({'copycat': 21, 'cheater': 0, 'cooperator': 0})\n",
      "Step:  17 Counter({'copycat': 21, 'cheater': 0, 'cooperator': 0})\n",
      "Step:  18 Counter({'copycat': 21, 'cheater': 0, 'cooperator': 0})\n",
      "Step:  19 Counter({'copycat': 21, 'cheater': 0, 'cooperator': 0})\n",
      "Step:  20 Counter({'copycat': 21, 'cheater': 0, 'cooperator': 0})\n",
      "Step:  21 Counter({'copycat': 21, 'cheater': 0, 'cooperator': 0})\n",
      "Step:  22 Counter({'copycat': 21, 'cheater': 0, 'cooperator': 0})\n",
      "Step:  23 Counter({'copycat': 21, 'cheater': 0, 'cooperator': 0})\n",
      "Step:  24 Counter({'copycat': 21, 'cheater': 0, 'cooperator': 0})\n",
      "Step:  25 Counter({'copycat': 21, 'cheater': 0, 'cooperator': 0})\n",
      "Step:  26 Counter({'copycat': 21, 'cheater': 0, 'cooperator': 0})\n",
      "Step:  27 Counter({'copycat': 21, 'cheater': 0, 'cooperator': 0})\n",
      "Step:  28 Counter({'copycat': 21, 'cheater': 0, 'cooperator': 0})\n",
      "Step:  29 Counter({'copycat': 21, 'cheater': 0, 'cooperator': 0})\n",
      "Step:  30 Counter({'copycat': 21, 'cheater': 0, 'cooperator': 0})\n",
      "Step:  31 Counter({'copycat': 21, 'cheater': 0, 'cooperator': 0})\n",
      "Step:  32 Counter({'copycat': 21, 'cheater': 0, 'cooperator': 0})\n",
      "Step:  33 Counter({'copycat': 21, 'cheater': 0, 'cooperator': 0})\n",
      "Step:  34 Counter({'copycat': 21, 'cheater': 0, 'cooperator': 0})\n",
      "Step:  35 Counter({'copycat': 21, 'cheater': 0, 'cooperator': 0})\n",
      "Step:  36 Counter({'copycat': 21, 'cheater': 0, 'cooperator': 0})\n",
      "Step:  37 Counter({'copycat': 21, 'cheater': 0, 'cooperator': 0})\n",
      "Step:  38 Counter({'copycat': 21, 'cheater': 0, 'cooperator': 0})\n",
      "Step:  39 Counter({'copycat': 21, 'cheater': 0, 'cooperator': 0})\n",
      "Step:  40 Counter({'copycat': 21, 'cheater': 0, 'cooperator': 0})\n",
      "Step:  41 Counter({'copycat': 21, 'cheater': 0, 'cooperator': 0})\n",
      "Step:  42 Counter({'copycat': 21, 'cheater': 0, 'cooperator': 0})\n",
      "Step:  43 Counter({'copycat': 21, 'cheater': 0, 'cooperator': 0})\n",
      "Step:  44 Counter({'copycat': 21, 'cheater': 0, 'cooperator': 0})\n",
      "Step:  45 Counter({'copycat': 21, 'cheater': 0, 'cooperator': 0})\n",
      "Step:  46 Counter({'copycat': 21, 'cheater': 0, 'cooperator': 0})\n",
      "Step:  47 Counter({'copycat': 21, 'cheater': 0, 'cooperator': 0})\n",
      "Step:  48 Counter({'copycat': 21, 'cheater': 0, 'cooperator': 0})\n",
      "Step:  49 Counter({'copycat': 21, 'cheater': 0, 'cooperator': 0})\n"
     ]
    },
    {
     "data": {
      "image/png": "[encoded data removed]",
      "text/plain": [
       "<matplotlib.figure.Figure at 0x7f555f444d68>"
      ]
     },
     "metadata": {},
     "output_type": "display_data"
    }
   ],
   "source": [
    "players = make_players(\n",
    "    [copycat]*10 +\\\n",
    "    [cheater]*10 +\\\n",
    "    [grudger]*10 +\\\n",
    "    [detective]*10 +\\\n",
    "    [cooperator]*10\n",
    ")\n",
    "\n",
    "players = make_players(\n",
    "    [cooperator]*18 + \\\n",
    "    [cheater] + \\\n",
    "    [copycat]\n",
    ")\n",
    "\n",
    "players = make_players(\n",
    "    [cheater]*9 + \\\n",
    "    [cooperator]*9 + \\\n",
    "    [copycat]*3\n",
    ")\n",
    "\n",
    "\n",
    "rounds  = 20\n",
    "steps   = 50\n",
    "nr_kick = 5\n",
    "\n",
    "results, evolution = simulation(players, rounds, steps, nr_kick)\n",
    "\n",
    "for t, cnt in evolution.items():\n",
    "    plt.plot(cnt, label=t)\n",
    "plt.legend()\n",
    "plt.show()"
   ]
  },
  {
   "cell_type": "code",
   "execution_count": null,
   "metadata": {},
   "outputs": [],
   "source": []
  }
 ],
 "metadata": {
  "kernelspec": {
   "display_name": "Python 3",
   "language": "python",
   "name": "python3"
  },
  "language_info": {
   "codemirror_mode": {
    "name": "ipython",
    "version": 3
   },
   "file_extension": ".py",
   "mimetype": "text/x-python",
   "name": "python",
   "nbconvert_exporter": "python",
   "pygments_lexer": "ipython3",
   "version": "3.6.4"
  }
 },
 "nbformat": 4,
 "nbformat_minor": 2
}
