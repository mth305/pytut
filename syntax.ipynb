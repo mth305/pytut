{
 "cells": [
  {
   "cell_type": "markdown",
   "metadata": {},
   "source": [
    "# Syntax\n",
    "\n",
    "## Whitespace / Indentation\n",
    "\n",
    "Indentation has meaning! It's used to enforce block structure / good coding style"
   ]
  },
  {
   "cell_type": "code",
   "execution_count": 1,
   "metadata": {},
   "outputs": [],
   "source": [
    "def minimum(lst):\n",
    "    m = lst[0]\n",
    "    for el in lst:\n",
    "        if el < m: m = el\n",
    "    return m"
   ]
  },
  {
   "cell_type": "code",
   "execution_count": 3,
   "metadata": {},
   "outputs": [
    {
     "data": {
      "text/plain": [
       "-5"
      ]
     },
     "execution_count": 3,
     "metadata": {},
     "output_type": "execute_result"
    }
   ],
   "source": [
    "# this minimum function can now be called from the same level:\n",
    "minimum([2, 12, 0, -5])"
   ]
  },
  {
   "cell_type": "markdown",
   "metadata": {},
   "source": [
    "## Keywords\n",
    "\n",
    "reserved, predefined word/operators used by Python\n",
    "\n",
    "    in, for, range, with, ...\n",
    "    \n",
    "    \n",
    "## Functions\n",
    "\n",
    "* defined with the `def` keyword\n",
    "* enable reusability, abstraction, ... - functions are great\n",
    "* they have a scope ..."
   ]
  },
  {
   "cell_type": "code",
   "execution_count": 7,
   "metadata": {},
   "outputs": [],
   "source": [
    "def create_list():\n",
    "    somelist = [\"foo\", \"bar\", 1, 2]\n",
    "    return somelist"
   ]
  },
  {
   "cell_type": "code",
   "execution_count": 8,
   "metadata": {},
   "outputs": [
    {
     "ename": "NameError",
     "evalue": "name 'somelist' is not defined",
     "output_type": "error",
     "traceback": [
      "\u001b[0;31m---------------------------------------------------------------------------\u001b[0m",
      "\u001b[0;31mNameError\u001b[0m                                 Traceback (most recent call last)",
      "\u001b[0;32m<ipython-input-8-97989e18061d>\u001b[0m in \u001b[0;36m<module>\u001b[0;34m()\u001b[0m\n\u001b[0;32m----> 1\u001b[0;31m \u001b[0msomelist\u001b[0m\u001b[0;34m\u001b[0m\u001b[0m\n\u001b[0m",
      "\u001b[0;31mNameError\u001b[0m: name 'somelist' is not defined"
     ]
    }
   ],
   "source": [
    "somelist"
   ]
  },
  {
   "cell_type": "code",
   "execution_count": 9,
   "metadata": {},
   "outputs": [
    {
     "data": {
      "text/plain": [
       "['foo', 'bar', 1, 2]"
      ]
     },
     "execution_count": 9,
     "metadata": {},
     "output_type": "execute_result"
    }
   ],
   "source": [
    "onelist = create_list()\n",
    "onelist"
   ]
  },
  {
   "cell_type": "code",
   "execution_count": 10,
   "metadata": {},
   "outputs": [
    {
     "data": {
      "text/plain": [
       "['foo', 'edited list element', 1, 2]"
      ]
     },
     "execution_count": 10,
     "metadata": {},
     "output_type": "execute_result"
    }
   ],
   "source": [
    "# btw you can edit list elements like this:\n",
    "onelist[1] = \"edited list element\"\n",
    "onelist"
   ]
  },
  {
   "cell_type": "markdown",
   "metadata": {},
   "source": [
    "## Imports\n",
    "\n",
    "Enables used of other packages / scripts. Also your own!\n",
    "Assume you have defined the `minimum` function from above in a `utils.py`\n",
    "file in the same directory as you python script:\n",
    "\n",
    "    from utils import minimum\n",
    "    \n",
    "    minimum([2, 12, 0, -5])\n",
    "    >>> -5\n",
    "    \n",
    "    import utils\n",
    "    \n",
    "    # also works:\n",
    "    utils.minimum([2, 12, 0, -5])\n",
    "   \n",
    "Further information: use google ...\n",
    "and check [this website](http://www.zentut.com/python-tutorial/introduction-to-python/)"
   ]
  },
  {
   "cell_type": "markdown",
   "metadata": {},
   "source": [
    "# Exercises\n",
    "\n",
    "## Stage One\n",
    "\n",
    "* BeautifulSoup\n",
    "    * load web content\n",
    "    * count some words\n",
    "    * save something to a file\n",
    "\n",
    "* APIs\n",
    "    * get some info. example: coordinates\n",
    "    * do something with it and get some other info ;) example: take coords -> find sunset/sunrise\n",
    "\n",
    "## Stage Two\n",
    "\n",
    "* Game of Trust\n",
    "* Game of Life (Array programming)"
   ]
  }
 ],
 "metadata": {
  "kernelspec": {
   "display_name": "Python 3",
   "language": "python",
   "name": "python3"
  },
  "language_info": {
   "codemirror_mode": {
    "name": "ipython",
    "version": 3
   },
   "file_extension": ".py",
   "mimetype": "text/x-python",
   "name": "python",
   "nbconvert_exporter": "python",
   "pygments_lexer": "ipython3",
   "version": "3.6.4"
  }
 },
 "nbformat": 4,
 "nbformat_minor": 2
}
