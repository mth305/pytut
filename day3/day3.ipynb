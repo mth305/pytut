{
 "cells": [
  {
   "cell_type": "code",
   "execution_count": 1,
   "metadata": {},
   "outputs": [],
   "source": [
    "import matplotlib.pyplot as plt\n",
    "import matplotlib.patches as patches"
   ]
  },
  {
   "cell_type": "code",
   "execution_count": 2,
   "metadata": {},
   "outputs": [],
   "source": [
    "def draw_patch(ax, coords, width, height, color):\n",
    "    pa = patches.Rectangle(coords, width, height, color=color)\n",
    "    ax.add_patch(pa)\n",
    "    ax.get_xaxis().set_visible(False)\n",
    "    ax.get_yaxis().set_visible(False)\n",
    "    return ax\n",
    "\n",
    "def draw_rect(cname, colors):\n",
    "    fig, ax = plt.subplots(figsize=(2,2))\n",
    "    ax = draw_patch(ax, (0, 0), 1, 1, colors[cname])\n",
    "    ax.set_title(cname)\n",
    "    plt.show()"
   ]
  },
  {
   "cell_type": "markdown",
   "metadata": {},
   "source": [
    "# Exercises\n",
    "\n",
    "## Stage One\n",
    "\n",
    "* BeautifulSoup\n",
    "    * load web content\n",
    "    * count some words\n",
    "    * save something to a file\n",
    "\n",
    "* APIs\n",
    "    * get some info. example: coordinates\n",
    "    * do something with it and get some other info ;) example: take coords -> find sunset/sunrise\n",
    "\n",
    "## Stage Two\n",
    "\n",
    "* Game of Trust\n",
    "* Game of Life (Array programming)\n",
    "\n",
    "\n",
    "## Tips\n",
    "\n",
    "    shorter and simpler == better\n",
    "    more general == better"
   ]
  },
  {
   "cell_type": "code",
   "execution_count": 3,
   "metadata": {},
   "outputs": [
    {
     "name": "stdout",
     "output_type": "stream",
     "text": [
      "{'black': '#000000', 'white': '#FFFFFF', 'blue': '#0000FF', 'red': '#FF0000', 'green': '#00FF00'}\n",
      "Single element: #00FF00\n"
     ]
    }
   ],
   "source": [
    "colors = {\n",
    "    \"black\": \"#000000\",\n",
    "    \"white\": \"#FFFFFF\",\n",
    "    \"blue\": \"#0000FF\",\n",
    "    \"red\": \"#FF0000\",\n",
    "    \"green\": \"#00FF00\"\n",
    "}\n",
    "\n",
    "print(colors)\n",
    "print(\"Single element:\", colors[\"green\"])"
   ]
  },
  {
   "cell_type": "code",
   "execution_count": 4,
   "metadata": {},
   "outputs": [
    {
     "data": {
      "image/png": "[encoded data removed]",
      "text/plain": [
       "<matplotlib.figure.Figure at 0x7f78c8114e48>"
      ]
     },
     "metadata": {},
     "output_type": "display_data"
    },
    {
     "name": "stdout",
     "output_type": "stream",
     "text": [
      "{'black': '#000000', 'white': '#FFFFFF', 'blue': '#0000FF', 'red': '#FF0000', 'green': '#00FF00', 'yellow': '#FF0000'}\n"
     ]
    }
   ],
   "source": [
    "# assign new key, value pair\n",
    "colors[\"yellow\"] = \"#FF0000\"\n",
    "draw_rect(\"yellow\", colors)\n",
    "print(colors)"
   ]
  },
  {
   "cell_type": "code",
   "execution_count": 5,
   "metadata": {},
   "outputs": [
    {
     "data": {
      "image/png": "[encoded data removed]",
      "text/plain": [
       "<matplotlib.figure.Figure at 0x7f78c8114a20>"
      ]
     },
     "metadata": {},
     "output_type": "display_data"
    }
   ],
   "source": [
    "# fix our mistake\n",
    "colors[\"yellow\"] = \"#FFFF00\"\n",
    "draw_rect(\"yellow\", colors)"
   ]
  },
  {
   "cell_type": "code",
   "execution_count": 6,
   "metadata": {},
   "outputs": [
    {
     "name": "stdout",
     "output_type": "stream",
     "text": [
      "black\n",
      "white\n",
      "blue\n",
      "red\n",
      "green\n",
      "yellow\n"
     ]
    }
   ],
   "source": [
    "for key in colors:\n",
    "    print(key)"
   ]
  },
  {
   "cell_type": "code",
   "execution_count": 7,
   "metadata": {},
   "outputs": [
    {
     "name": "stdout",
     "output_type": "stream",
     "text": [
      "#000000\n",
      "#FFFFFF\n",
      "#0000FF\n",
      "#FF0000\n",
      "#00FF00\n",
      "#FFFF00\n"
     ]
    }
   ],
   "source": [
    "for value in colors.values():\n",
    "    print(value)"
   ]
  },
  {
   "cell_type": "code",
   "execution_count": 8,
   "metadata": {},
   "outputs": [
    {
     "name": "stdout",
     "output_type": "stream",
     "text": [
      "black #000000\n",
      "white #FFFFFF\n",
      "blue #0000FF\n",
      "red #FF0000\n",
      "green #00FF00\n",
      "yellow #FFFF00\n"
     ]
    }
   ],
   "source": [
    "for key, value in colors.items():\n",
    "    print(key, value)"
   ]
  },
  {
   "cell_type": "code",
   "execution_count": 9,
   "metadata": {},
   "outputs": [
    {
     "data": {
      "image/png": "[encoded data removed]",
      "text/plain": [
       "<matplotlib.figure.Figure at 0x7f78c8054c88>"
      ]
     },
     "metadata": {},
     "output_type": "display_data"
    },
    {
     "data": {
      "image/png": "[encoded data removed]",
      "text/plain": [
       "<matplotlib.figure.Figure at 0x7f78c168a828>"
      ]
     },
     "metadata": {},
     "output_type": "display_data"
    },
    {
     "data": {
      "image/png": "[encoded data removed]",
      "text/plain": [
       "<matplotlib.figure.Figure at 0x7f78c164b438>"
      ]
     },
     "metadata": {},
     "output_type": "display_data"
    },
    {
     "data": {
      "image/png": "[encoded data removed]",
      "text/plain": [
       "<matplotlib.figure.Figure at 0x7f78c160acf8>"
      ]
     },
     "metadata": {},
     "output_type": "display_data"
    },
    {
     "data": {
      "image/png": "[encoded data removed]",
      "text/plain": [
       "<matplotlib.figure.Figure at 0x7f78c15cb588>"
      ]
     },
     "metadata": {},
     "output_type": "display_data"
    },
    {
     "data": {
      "image/png": "[encoded data removed]",
      "text/plain": [
       "<matplotlib.figure.Figure at 0x7f78c158aeb8>"
      ]
     },
     "metadata": {},
     "output_type": "display_data"
    }
   ],
   "source": [
    "for key in colors:\n",
    "    draw_rect(key, colors)"
   ]
  },
  {
   "cell_type": "code",
   "execution_count": 10,
   "metadata": {},
   "outputs": [
    {
     "data": {
      "image/png": "[encoded data removed]",
      "text/plain": [
       "<matplotlib.figure.Figure at 0x7f78c14f3c18>"
      ]
     },
     "metadata": {},
     "output_type": "display_data"
    }
   ],
   "source": [
    "fig, axes = plt.subplots(1, len(colors), figsize=(len(colors)*2,2))\n",
    "for ax, (key, value) in zip(axes, colors.items()):\n",
    "    ax = draw_patch(ax, coords=(0, 0), width=1, height=1, color=value)\n",
    "    ax.set_title(key)\n",
    "plt.tight_layout()\n",
    "plt.show()"
   ]
  },
  {
   "cell_type": "code",
   "execution_count": null,
   "metadata": {},
   "outputs": [],
   "source": []
  }
 ],
 "metadata": {
  "kernelspec": {
   "display_name": "Python 3",
   "language": "python",
   "name": "python3"
  },
  "language_info": {
   "codemirror_mode": {
    "name": "ipython",
    "version": 3
   },
   "file_extension": ".py",
   "mimetype": "text/x-python",
   "name": "python",
   "nbconvert_exporter": "python",
   "pygments_lexer": "ipython3",
   "version": "3.6.4"
  }
 },
 "nbformat": 4,
 "nbformat_minor": 2
}
